{
 "cells": [
  {
   "cell_type": "code",
   "execution_count": 3,
   "id": "5f07ef4e",
   "metadata": {},
   "outputs": [],
   "source": [
    "import pandas as pd\n",
    "import numpy as np\n",
    "import matplotlib.pyplot as plt\n",
    "import seaborn as sns\n",
    "%matplotlib inline"
   ]
  },
  {
   "cell_type": "code",
   "execution_count": 4,
   "id": "1d673388",
   "metadata": {},
   "outputs": [
    {
     "data": {
      "text/html": [
       "<div>\n",
       "<style scoped>\n",
       "    .dataframe tbody tr th:only-of-type {\n",
       "        vertical-align: middle;\n",
       "    }\n",
       "\n",
       "    .dataframe tbody tr th {\n",
       "        vertical-align: top;\n",
       "    }\n",
       "\n",
       "    .dataframe thead th {\n",
       "        text-align: right;\n",
       "    }\n",
       "</style>\n",
       "<table border=\"1\" class=\"dataframe\">\n",
       "  <thead>\n",
       "    <tr style=\"text-align: right;\">\n",
       "      <th></th>\n",
       "      <th>Users Reached</th>\n",
       "      <th>Revenue Generate</th>\n",
       "    </tr>\n",
       "  </thead>\n",
       "  <tbody>\n",
       "    <tr>\n",
       "      <th>0</th>\n",
       "      <td>56</td>\n",
       "      <td>20000.0</td>\n",
       "    </tr>\n",
       "    <tr>\n",
       "      <th>1</th>\n",
       "      <td>87</td>\n",
       "      <td>56800.0</td>\n",
       "    </tr>\n",
       "    <tr>\n",
       "      <th>2</th>\n",
       "      <td>100</td>\n",
       "      <td>78950.0</td>\n",
       "    </tr>\n",
       "    <tr>\n",
       "      <th>3</th>\n",
       "      <td>104</td>\n",
       "      <td>45300.0</td>\n",
       "    </tr>\n",
       "    <tr>\n",
       "      <th>4</th>\n",
       "      <td>112</td>\n",
       "      <td>50600.0</td>\n",
       "    </tr>\n",
       "    <tr>\n",
       "      <th>5</th>\n",
       "      <td>120</td>\n",
       "      <td>12350.0</td>\n",
       "    </tr>\n",
       "    <tr>\n",
       "      <th>6</th>\n",
       "      <td>125</td>\n",
       "      <td>45255.0</td>\n",
       "    </tr>\n",
       "    <tr>\n",
       "      <th>7</th>\n",
       "      <td>130</td>\n",
       "      <td>76819.0</td>\n",
       "    </tr>\n",
       "    <tr>\n",
       "      <th>8</th>\n",
       "      <td>211</td>\n",
       "      <td>63759.0</td>\n",
       "    </tr>\n",
       "    <tr>\n",
       "      <th>9</th>\n",
       "      <td>235</td>\n",
       "      <td>210065.0</td>\n",
       "    </tr>\n",
       "    <tr>\n",
       "      <th>10</th>\n",
       "      <td>246</td>\n",
       "      <td>15000.0</td>\n",
       "    </tr>\n",
       "    <tr>\n",
       "      <th>11</th>\n",
       "      <td>246</td>\n",
       "      <td>NaN</td>\n",
       "    </tr>\n",
       "    <tr>\n",
       "      <th>12</th>\n",
       "      <td>300</td>\n",
       "      <td>76580.0</td>\n",
       "    </tr>\n",
       "    <tr>\n",
       "      <th>13</th>\n",
       "      <td>300</td>\n",
       "      <td>12660.0</td>\n",
       "    </tr>\n",
       "    <tr>\n",
       "      <th>14</th>\n",
       "      <td>302</td>\n",
       "      <td>67435.0</td>\n",
       "    </tr>\n",
       "    <tr>\n",
       "      <th>15</th>\n",
       "      <td>321</td>\n",
       "      <td>97179.0</td>\n",
       "    </tr>\n",
       "    <tr>\n",
       "      <th>16</th>\n",
       "      <td>345</td>\n",
       "      <td>NaN</td>\n",
       "    </tr>\n",
       "    <tr>\n",
       "      <th>17</th>\n",
       "      <td>350</td>\n",
       "      <td>98925.0</td>\n",
       "    </tr>\n",
       "    <tr>\n",
       "      <th>18</th>\n",
       "      <td>432</td>\n",
       "      <td>42657.0</td>\n",
       "    </tr>\n",
       "    <tr>\n",
       "      <th>19</th>\n",
       "      <td>440</td>\n",
       "      <td>635.0</td>\n",
       "    </tr>\n",
       "    <tr>\n",
       "      <th>20</th>\n",
       "      <td>450</td>\n",
       "      <td>868.0</td>\n",
       "    </tr>\n",
       "    <tr>\n",
       "      <th>21</th>\n",
       "      <td>453</td>\n",
       "      <td>5247.0</td>\n",
       "    </tr>\n",
       "    <tr>\n",
       "      <th>22</th>\n",
       "      <td>546</td>\n",
       "      <td>92754.0</td>\n",
       "    </tr>\n",
       "    <tr>\n",
       "      <th>23</th>\n",
       "      <td>560</td>\n",
       "      <td>920.0</td>\n",
       "    </tr>\n",
       "    <tr>\n",
       "      <th>24</th>\n",
       "      <td>578</td>\n",
       "      <td>98648.0</td>\n",
       "    </tr>\n",
       "    <tr>\n",
       "      <th>25</th>\n",
       "      <td>678</td>\n",
       "      <td>12366.0</td>\n",
       "    </tr>\n",
       "    <tr>\n",
       "      <th>26</th>\n",
       "      <td>686</td>\n",
       "      <td>36745.0</td>\n",
       "    </tr>\n",
       "    <tr>\n",
       "      <th>27</th>\n",
       "      <td>990</td>\n",
       "      <td>12345.0</td>\n",
       "    </tr>\n",
       "    <tr>\n",
       "      <th>28</th>\n",
       "      <td>1787</td>\n",
       "      <td>34356.0</td>\n",
       "    </tr>\n",
       "  </tbody>\n",
       "</table>\n",
       "</div>"
      ],
      "text/plain": [
       "    Users Reached  Revenue Generate\n",
       "0              56           20000.0\n",
       "1              87           56800.0\n",
       "2             100           78950.0\n",
       "3             104           45300.0\n",
       "4             112           50600.0\n",
       "5             120           12350.0\n",
       "6             125           45255.0\n",
       "7             130           76819.0\n",
       "8             211           63759.0\n",
       "9             235          210065.0\n",
       "10            246           15000.0\n",
       "11            246               NaN\n",
       "12            300           76580.0\n",
       "13            300           12660.0\n",
       "14            302           67435.0\n",
       "15            321           97179.0\n",
       "16            345               NaN\n",
       "17            350           98925.0\n",
       "18            432           42657.0\n",
       "19            440             635.0\n",
       "20            450             868.0\n",
       "21            453            5247.0\n",
       "22            546           92754.0\n",
       "23            560             920.0\n",
       "24            578           98648.0\n",
       "25            678           12366.0\n",
       "26            686           36745.0\n",
       "27            990           12345.0\n",
       "28           1787           34356.0"
      ]
     },
     "execution_count": 4,
     "metadata": {},
     "output_type": "execute_result"
    }
   ],
   "source": [
    "df = pd.read_csv('online marketing.csv')\n",
    "df\n"
   ]
  },
  {
   "cell_type": "code",
   "execution_count": 5,
   "id": "ed7cbac0",
   "metadata": {},
   "outputs": [
    {
     "data": {
      "text/plain": [
       "0       56\n",
       "1       87\n",
       "2      100\n",
       "3      104\n",
       "4      112\n",
       "5      120\n",
       "6      125\n",
       "7      130\n",
       "8      211\n",
       "9      235\n",
       "10     246\n",
       "11     246\n",
       "12     300\n",
       "13     300\n",
       "14     302\n",
       "15     321\n",
       "16     345\n",
       "17     350\n",
       "18     432\n",
       "19     440\n",
       "20     450\n",
       "21     453\n",
       "22     546\n",
       "23     560\n",
       "24     578\n",
       "25     678\n",
       "26     686\n",
       "27     990\n",
       "28    1787\n",
       "Name: Users Reached, dtype: int64"
      ]
     },
     "execution_count": 5,
     "metadata": {},
     "output_type": "execute_result"
    }
   ],
   "source": [
    "df['Users Reached']"
   ]
  },
  {
   "cell_type": "code",
   "execution_count": 40,
   "id": "0fb98560",
   "metadata": {},
   "outputs": [
    {
     "data": {
      "text/plain": [
       "127.5"
      ]
     },
     "execution_count": 40,
     "metadata": {},
     "output_type": "execute_result"
    }
   ],
   "source": [
    "q1 = np.quantile(df['Users Reached'] , 0.25)\n",
    "q1"
   ]
  },
  {
   "cell_type": "code",
   "execution_count": 41,
   "id": "5e2100f4",
   "metadata": {},
   "outputs": [
    {
     "data": {
      "text/plain": [
       "445.0"
      ]
     },
     "execution_count": 41,
     "metadata": {},
     "output_type": "execute_result"
    }
   ],
   "source": [
    "q3 = np.quantile(df['Users Reached'], 0.75)\n",
    "q3"
   ]
  },
  {
   "cell_type": "code",
   "execution_count": 42,
   "id": "24cd4105",
   "metadata": {},
   "outputs": [
    {
     "data": {
      "text/plain": [
       "317.5"
      ]
     },
     "execution_count": 42,
     "metadata": {},
     "output_type": "execute_result"
    }
   ],
   "source": [
    " iqr = q3 - q1\n",
    "iqr"
   ]
  },
  {
   "cell_type": "code",
   "execution_count": 43,
   "id": "8582033c",
   "metadata": {},
   "outputs": [
    {
     "name": "stdout",
     "output_type": "stream",
     "text": [
      "476.25\n",
      "921.25\n",
      "-348.75\n"
     ]
    }
   ],
   "source": [
    "cutoff = iqr*1.5\n",
    "p_max = q3 + cutoff\n",
    "p_min = q1 - cutoff\n",
    "\n",
    "print(cutoff)\n",
    "print(p_max)\n",
    "print(p_min)"
   ]
  },
  {
   "cell_type": "code",
   "execution_count": 44,
   "id": "bba22835",
   "metadata": {},
   "outputs": [
    {
     "name": "stdout",
     "output_type": "stream",
     "text": [
      "Data lower = 56\n",
      "The lower bound value is = q1 = -348.75\n",
      "The IQR is 317.5\n",
      "The upper bound value is = q3 = 921.25\n",
      "Data maximum = 686\n",
      "Five number summary for Users Reached column\n",
      "( 56 , -348.75 , 317.5 , 921.25 , 56 )\n"
     ]
    }
   ],
   "source": [
    "print('Data lower =', df['Users Reached'].min())\n",
    "print('The lower bound value is = q1 =', p_min)\n",
    "print('The IQR is',iqr)\n",
    "print('The upper bound value is = q3 =', p_max)\n",
    "print('Data maximum =', df['Users Reached'].max())\n",
    "print('Five number summary for Users Reached column')\n",
    "print('(', df['Users Reached'].min(),',',p_min,',',iqr,',',p_max,',',df['Users Reached'].min(),')')"
   ]
  },
  {
   "cell_type": "markdown",
   "id": "c71ae061",
   "metadata": {},
   "source": [
    "# Boxplot , histogram , scatterplot Exp 4"
   ]
  },
  {
   "cell_type": "code",
   "execution_count": 38,
   "id": "32a769b8",
   "metadata": {},
   "outputs": [
    {
     "data": {
      "image/png": "[encoded data removed]",
      "text/plain": [
       "<Figure size 720x576 with 1 Axes>"
      ]
     },
     "metadata": {
      "needs_background": "light"
     },
     "output_type": "display_data"
    }
   ],
   "source": [
    "figure = plt.figure(figsize =(10, 8))  \n",
    "plt.boxplot(df['Users Reached'])  \n",
    "plt.show()  "
   ]
  },
  {
   "cell_type": "code",
   "execution_count": 37,
   "id": "2d006a66",
   "metadata": {},
   "outputs": [],
   "source": [
    "pop = df[(df['Users Reached'] >937.5)].index\n",
    "df.drop(pop , inplace=True)"
   ]
  },
  {
   "cell_type": "code",
   "execution_count": 51,
   "id": "91bef8db",
   "metadata": {},
   "outputs": [
    {
     "data": {
      "text/plain": [
       "<AxesSubplot:xlabel='Users Reached', ylabel='Count'>"
      ]
     },
     "execution_count": 51,
     "metadata": {},
     "output_type": "execute_result"
    },
    {
     "data": {
      "image/png": "[encoded data removed]",
      "text/plain": [
       "<Figure size 432x288 with 1 Axes>"
      ]
     },
     "metadata": {
      "needs_background": "light"
     },
     "output_type": "display_data"
    }
   ],
   "source": [
    "sns.histplot(df['Users Reached'])"
   ]
  },
  {
   "cell_type": "code",
   "execution_count": 61,
   "id": "a8933cc6",
   "metadata": {},
   "outputs": [
    {
     "data": {
      "image/png": "[encoded data removed]",
      "text/plain": [
       "<Figure size 576x432 with 1 Axes>"
      ]
     },
     "metadata": {
      "needs_background": "light"
     },
     "output_type": "display_data"
    }
   ],
   "source": [
    "figure = plt.figure(figsize = (8,6))\n",
    "plt.scatter(x = 'Revenue Generate' , y = 'Users Reached' , data = df)\n",
    "plt.show()"
   ]
  },
  {
   "cell_type": "code",
   "execution_count": 27,
   "id": "e416f448",
   "metadata": {},
   "outputs": [
    {
     "data": {
      "image/png": "[encoded data removed]",
      "text/plain": [
       "<Figure size 432x288 with 1 Axes>"
      ]
     },
     "metadata": {
      "needs_background": "light"
     },
     "output_type": "display_data"
    }
   ],
   "source": [
    "import numpy as np\n",
    "import matplotlib.pyplot as plt\n",
    "from scipy import stats\n",
    "\n",
    "# Generate sample data\n",
    "data = df['Users Reached']\n",
    "# Plot the Q-Q plot\n",
    "stats.probplot(data, plot=plt)\n",
    "plt.show()"
   ]
  },
  {
   "cell_type": "code",
   "execution_count": 28,
   "id": "c3e53398",
   "metadata": {},
   "outputs": [
    {
     "data": {
      "image/png": "[encoded data removed]",
      "text/plain": [
       "<Figure size 432x288 with 1 Axes>"
      ]
     },
     "metadata": {
      "needs_background": "light"
     },
     "output_type": "display_data"
    }
   ],
   "source": [
    "import numpy as np\n",
    "import matplotlib.pyplot as plt\n",
    "from scipy import stats\n",
    "\n",
    "# Generate sample data\n",
    "data = df['Revenue Generate']\n",
    "# Plot the Q-Q plot\n",
    "stats.probplot(data, plot=plt)\n",
    "plt.show()"
   ]
  },
  {
   "cell_type": "markdown",
   "id": "7fcae1f0",
   "metadata": {},
   "source": [
    "# Filling missing values with mean Exp 3"
   ]
  },
  {
   "cell_type": "code",
   "execution_count": 28,
   "id": "9e828787",
   "metadata": {},
   "outputs": [
    {
     "data": {
      "text/plain": [
       "0      20000.0\n",
       "1      56800.0\n",
       "2      78950.0\n",
       "3      45300.0\n",
       "4      50600.0\n",
       "5      12350.0\n",
       "6      45255.0\n",
       "7      76819.0\n",
       "8      63759.0\n",
       "9     210065.0\n",
       "10     15000.0\n",
       "11         NaN\n",
       "12     76580.0\n",
       "13     12660.0\n",
       "14     67435.0\n",
       "15     97179.0\n",
       "16         NaN\n",
       "17     98925.0\n",
       "18     42657.0\n",
       "19       635.0\n",
       "20       868.0\n",
       "21      5247.0\n",
       "22     92754.0\n",
       "23       920.0\n",
       "24     98648.0\n",
       "25     12366.0\n",
       "26     36745.0\n",
       "27     12345.0\n",
       "28     34356.0\n",
       "Name: Revenue Generate, dtype: float64"
      ]
     },
     "execution_count": 28,
     "metadata": {},
     "output_type": "execute_result"
    }
   ],
   "source": [
    "df['Revenue Generate']"
   ]
  },
  {
   "cell_type": "code",
   "execution_count": 30,
   "id": "5b0dd4f6",
   "metadata": {},
   "outputs": [
    {
     "data": {
      "text/plain": [
       "2"
      ]
     },
     "execution_count": 30,
     "metadata": {},
     "output_type": "execute_result"
    }
   ],
   "source": [
    "df['Revenue Generate'].isnull().sum()"
   ]
  },
  {
   "cell_type": "code",
   "execution_count": 6,
   "id": "24d317c4",
   "metadata": {},
   "outputs": [],
   "source": [
    "df['Revenue Generate']= df['Revenue Generate'].fillna(df['Users Reached'].mean())"
   ]
  },
  {
   "cell_type": "code",
   "execution_count": 7,
   "id": "7f2e2262",
   "metadata": {},
   "outputs": [
    {
     "data": {
      "text/plain": [
       "0"
      ]
     },
     "execution_count": 7,
     "metadata": {},
     "output_type": "execute_result"
    }
   ],
   "source": [
    "df['Revenue Generate'].isnull().sum()"
   ]
  },
  {
   "cell_type": "code",
   "execution_count": 47,
   "id": "fea6684c",
   "metadata": {},
   "outputs": [
    {
     "data": {
      "text/plain": [
       "0      20000.000000\n",
       "1      56800.000000\n",
       "2      78950.000000\n",
       "3      45300.000000\n",
       "4      50600.000000\n",
       "5      12350.000000\n",
       "6      45255.000000\n",
       "7      76819.000000\n",
       "8      63759.000000\n",
       "9     210065.000000\n",
       "10     15000.000000\n",
       "11       389.310345\n",
       "Name: Revenue Generate, dtype: float64"
      ]
     },
     "execution_count": 47,
     "metadata": {},
     "output_type": "execute_result"
    }
   ],
   "source": [
    "df['Revenue Generate'].head(12)"
   ]
  },
  {
   "cell_type": "markdown",
   "id": "fb145204",
   "metadata": {},
   "source": [
    "# Binning Methods"
   ]
  },
  {
   "cell_type": "code",
   "execution_count": 40,
   "id": "6a38215c",
   "metadata": {},
   "outputs": [],
   "source": [
    "# binning for equal width\n",
    "def equiwidth(arr1, m):\n",
    "    a = len(arr1)\n",
    "    w = int((max(arr1) - min(arr1)) / m)\n",
    "    min1 = min(arr1)\n",
    "    arr = []\n",
    "    for i in range(0, m + 1):\n",
    "        arr = arr + [min1 + w * i]\n",
    "    arri=[]\n",
    "      \n",
    "    for i in range(0, m):\n",
    "        temp = []\n",
    "        for j in arr1:\n",
    "            if j >= arr[i] and j <= arr[i+1]:\n",
    "                temp += [j]\n",
    "        arri += [temp]\n",
    "    print(arri) "
   ]
  },
  {
   "cell_type": "code",
   "execution_count": 43,
   "id": "1e143243",
   "metadata": {},
   "outputs": [
    {
     "name": "stdout",
     "output_type": "stream",
     "text": [
      "[[56, 87, 100, 104, 112, 120, 125, 130, 211, 235, 246, 246, 300, 300, 302, 321, 345, 350, 432, 440, 450, 453, 546, 560, 578], [678, 686, 990], [1787]]\n"
     ]
    }
   ],
   "source": [
    "equiwidth(df['Users Reached'],3)"
   ]
  },
  {
   "cell_type": "code",
   "execution_count": 48,
   "id": "7488a68f",
   "metadata": {},
   "outputs": [
    {
     "name": "stdout",
     "output_type": "stream",
     "text": [
      "[56, 87, 100, 104, 112, 120, 125]\n",
      "[130, 211, 235, 246, 246, 300, 300]\n",
      "[302, 321, 345, 350, 432, 440, 450]\n",
      "[453, 546, 560, 578, 678, 686, 990]\n"
     ]
    }
   ],
   "source": [
    "#Binning for equal frequency\n",
    "def equifreq(arr1, m):    \n",
    "    a = len(arr1)\n",
    "    n = int(a / m)\n",
    "    for i in range(0, m):\n",
    "        arr = []\n",
    "        for j in range(i * n, (i + 1) * n):\n",
    "            if j >= a:\n",
    "                break\n",
    "            arr = arr + [arr1[j]]\n",
    "        print(arr)\n",
    "        \n",
    "        \n",
    "equifreq(df['Users Reached'], 4)"
   ]
  },
  {
   "cell_type": "code",
   "execution_count": null,
   "id": "db45413e",
   "metadata": {},
   "outputs": [],
   "source": []
  }
 ],
 "metadata": {
  "kernelspec": {
   "display_name": "Python 3 (ipykernel)",
   "language": "python",
   "name": "python3"
  },
  "language_info": {
   "codemirror_mode": {
    "name": "ipython",
    "version": 3
   },
   "file_extension": ".py",
   "mimetype": "text/x-python",
   "name": "python",
   "nbconvert_exporter": "python",
   "pygments_lexer": "ipython3",
   "version": "3.9.12"
  }
 },
 "nbformat": 4,
 "nbformat_minor": 5
}
